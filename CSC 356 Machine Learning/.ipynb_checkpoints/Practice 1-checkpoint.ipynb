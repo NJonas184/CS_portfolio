{
 "cells": [
  {
   "cell_type": "code",
   "execution_count": 46,
   "metadata": {},
   "outputs": [],
   "source": [
    "import numpy as np\n",
    "import matplotlib.pyplot as plt\n",
    "import matplotlib.colors as mcolors"
   ]
  },
  {
   "cell_type": "code",
   "execution_count": 47,
   "metadata": {},
   "outputs": [],
   "source": [
    "X_min = 0.0\n",
    "X_max = 1.0\n",
    "\n",
    "num_of_samples = 256"
   ]
  },
  {
   "cell_type": "code",
   "execution_count": 57,
   "metadata": {},
   "outputs": [],
   "source": [
    "intercept = np.random.rand()\n",
    "slope = np.random.rand()\n",
    "# define the line around which are\n",
    "# data that will be scattered\n",
    "\n",
    "# Specify how widely the data will scatter\n",
    "stddev = 1/16"
   ]
  },
  {
   "cell_type": "code",
   "execution_count": 58,
   "metadata": {},
   "outputs": [],
   "source": [
    "X = X_min + (X_max - X_min) * np.random.rand(num_of_samples, 1)\n",
    "# Create a matrix with num_of_samples rows and one column\n",
    "# Fill this matrix with random x coordinates, each between X_min and X_max\n",
    "\n",
    "Y  = intercept + slope * X + np.random.randn(num_of_samples, 1) * stddev\n",
    "# Create y coordinates that correspond to each of the x coordinates"
   ]
  },
  {
   "cell_type": "code",
   "execution_count": 59,
   "metadata": {},
   "outputs": [],
   "source": [
    "# Add a second column to the mateix that contains the x coordinates.\n",
    "# This column will be the first column.\n",
    "# Each entry will be a 1.\n",
    "X_extended = np.c_[np.ones((num_of_samples, 1)), X]\n",
    "\n",
    "# Transpose matrix\n",
    "X_extended_transpose = X_extended.T"
   ]
  },
  {
   "cell_type": "code",
   "execution_count": 60,
   "metadata": {},
   "outputs": [],
   "source": [
    "# Multiply the transposed matrix times the untransposed matrix,\n",
    "matrix_transpose_product = X_extended_transpose.dot(X_extended)\n",
    "\n",
    "# Take the inverse of matrix_transpose_product\n",
    "inverse = np.linalg.inv(matrix_transpose_product)\n",
    "\n",
    "# Multiply the inverse of matrix_transpose_product with X_extended_transpose\n",
    "inverse_transpose_product = inverse.dot(X_extended_transpose)\n",
    "\n",
    "# Multiply inverse_transpose_product with Y\n",
    "model_parameters = inverse_transpose_product.dot(Y)"
   ]
  },
  {
   "cell_type": "code",
   "execution_count": 61,
   "metadata": {},
   "outputs": [],
   "source": [
    "# Create test data\n",
    "x_test = np.array([[1.0, X_min], [1.0, X_max]])\n",
    "\n",
    "# Create a prediction based off model_parameters and x_test\n",
    "y_predict = x_test.dot(model_parameters)\n",
    "\n",
    "# Create a line segment from X_min to X_max\n",
    "line_segment = [[X_min, y_predict[0][0]], [X_max, y_predict[1][0]]]\n",
    "\n",
    "# Creates a matrix of points\n",
    "points = np.c_[X, Y]"
   ]
  },
  {
   "cell_type": "code",
   "execution_count": 62,
   "metadata": {},
   "outputs": [
    {
     "data": {
      "image/png": "[encoded data removed]",
      "text/plain": [
       "<Figure size 432x432 with 1 Axes>"
      ]
     },
     "metadata": {
      "needs_background": "light"
     },
     "output_type": "display_data"
    }
   ],
   "source": [
    "x_samples = points[:, 0]\n",
    "# Collect the x coordinates of points\n",
    "\n",
    "y_samples = points[:, 1]\n",
    "# Collect the y coordinates of points\n",
    "\n",
    "# Size of figure is expressed in inches\n",
    "fig, ax = plt.subplots(figsize = (6,6))\n",
    "\n",
    "ax.scatter(x_samples, y_samples, s = 16)\n",
    "\n",
    "ax.set(\n",
    "        xlabel = \"x\",\n",
    "        ylabel = \"y\",\n",
    "        title = \"experiment\")\n",
    "\n",
    "ax.grid()\n",
    "\n",
    "# Draw the line segment\n",
    "# s0 and s1 are the 2 endpoints.\n",
    "s0 = line_segment[0]\n",
    "s1 = line_segment[1]\n",
    "\n",
    "# x0 and y0 are the coordinates\n",
    "# of the first enpoint.\n",
    "x0 = s0[0]\n",
    "y0 = s0[1]\n",
    "\n",
    "# x1 and y1 are the coordinates\n",
    "# of the second endpoint.\n",
    "x1 = s1[0]\n",
    "y1 = s1[1]\n",
    "\n",
    "# Plot.\n",
    "plt.axline((x0,y0), (x1, y1), linewidth = 4.0, color = mcolors.to_rgb(\"red\"))\n",
    "plt.show()"
   ]
  }
 ],
 "metadata": {
  "kernelspec": {
   "display_name": "Python 3",
   "language": "python",
   "name": "python3"
  },
  "language_info": {
   "codemirror_mode": {
    "name": "ipython",
    "version": 3
   },
   "file_extension": ".py",
   "mimetype": "text/x-python",
   "name": "python",
   "nbconvert_exporter": "python",
   "pygments_lexer": "ipython3",
   "version": "3.8.5"
  }
 },
 "nbformat": 4,
 "nbformat_minor": 4
}
